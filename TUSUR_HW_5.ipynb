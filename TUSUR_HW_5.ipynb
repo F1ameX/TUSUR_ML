{
  "nbformat": 4,
  "nbformat_minor": 0,
  "metadata": {
    "colab": {
      "provenance": [],
      "toc_visible": true,
      "mount_file_id": "1r-YOwgWa-RHA_oEF_9MsbPlJH1R3gmdY",
      "authorship_tag": "ABX9TyNRIBGjFYfGOijaaIa0eCQp",
      "include_colab_link": true
    },
    "kernelspec": {
      "name": "python3",
      "display_name": "Python 3"
    },
    "language_info": {
      "name": "python"
    }
  },
  "cells": [
    {
      "cell_type": "markdown",
      "metadata": {
        "id": "view-in-github",
        "colab_type": "text"
      },
      "source": [
        "<a href=\"https://colab.research.google.com/github/F1ameX/TUSUR_ML/blob/main/TUSUR_HW_5.ipynb\" target=\"_parent\"><img src=\"https://colab.research.google.com/assets/colab-badge.svg\" alt=\"Open In Colab\"/></a>"
      ]
    },
    {
      "cell_type": "markdown",
      "source": [
        "# Продвинутый вариант выполнения задания"
      ],
      "metadata": {
        "id": "s5DVTvLAbzNC"
      }
    },
    {
      "cell_type": "markdown",
      "source": [
        "## Подготовка данных"
      ],
      "metadata": {
        "id": "irGiVPzjcEUU"
      }
    },
    {
      "cell_type": "markdown",
      "source": [
        "### Подключение модулей. Загрузка датасета"
      ],
      "metadata": {
        "id": "0IxmbPP9cez8"
      }
    },
    {
      "cell_type": "markdown",
      "source": [
        "Для работы с данным подключаем модули. warnings - для работы с системными предупрежденинями Python, pandas - для работы с данными."
      ],
      "metadata": {
        "id": "PcwFmLLaeOkP"
      }
    },
    {
      "cell_type": "code",
      "execution_count": 2,
      "metadata": {
        "id": "q6KDIqosMLnA"
      },
      "outputs": [],
      "source": [
        "import warnings\n",
        "import pandas as pd\n",
        "warnings.filterwarnings('ignore') # Функция для отключения лишних предупреждений"
      ]
    },
    {
      "cell_type": "markdown",
      "source": [
        "Подгружаем датасет, необходимый для работы в этом задании."
      ],
      "metadata": {
        "id": "gIX1Rbfyeh11"
      }
    },
    {
      "cell_type": "code",
      "source": [
        "df = pd.read_csv('/content/drive/MyDrive/src_5hw/preprocessed_orders_short.csv', index_col = False)\n",
        "df.head()"
      ],
      "metadata": {
        "colab": {
          "base_uri": "https://localhost:8080/",
          "height": 206
        },
        "id": "yOw_hC8cMYWG",
        "outputId": "05b0f809-c53d-46de-c27e-189d9fe37e52"
      },
      "execution_count": 3,
      "outputs": [
        {
          "output_type": "execute_result",
          "data": {
            "text/plain": [
              "   Unnamed: 0  store_id    order_id   profit  delivery_distance  \\\n",
              "0           0    5014.0  20562761.0  45.5040             2205.0   \n",
              "1           2    3856.0  20562753.0  30.3360             1368.0   \n",
              "2           4   10825.0  20562723.0  43.6080              459.0   \n",
              "3           5    8535.0  20562639.0  11.3128             1749.0   \n",
              "4          10   11449.0  20562617.0   4.4240             1040.0   \n",
              "\n",
              "   planned_prep_time  region_id  order_price  items_count  prepared_on_time  \n",
              "0               15.0      683.0        30.49          2.0               1.0  \n",
              "1               10.0      683.0       240.78          2.0               1.0  \n",
              "2               20.0      683.0        85.99          1.0               1.0  \n",
              "3               10.0      685.0        80.09          5.0               1.0  \n",
              "4               20.0      695.0        85.99          1.0               1.0  "
            ],
            "text/html": [
              "\n",
              "  <div id=\"df-72999a64-b9c9-47bb-b306-257153ea01d0\" class=\"colab-df-container\">\n",
              "    <div>\n",
              "<style scoped>\n",
              "    .dataframe tbody tr th:only-of-type {\n",
              "        vertical-align: middle;\n",
              "    }\n",
              "\n",
              "    .dataframe tbody tr th {\n",
              "        vertical-align: top;\n",
              "    }\n",
              "\n",
              "    .dataframe thead th {\n",
              "        text-align: right;\n",
              "    }\n",
              "</style>\n",
              "<table border=\"1\" class=\"dataframe\">\n",
              "  <thead>\n",
              "    <tr style=\"text-align: right;\">\n",
              "      <th></th>\n",
              "      <th>Unnamed: 0</th>\n",
              "      <th>store_id</th>\n",
              "      <th>order_id</th>\n",
              "      <th>profit</th>\n",
              "      <th>delivery_distance</th>\n",
              "      <th>planned_prep_time</th>\n",
              "      <th>region_id</th>\n",
              "      <th>order_price</th>\n",
              "      <th>items_count</th>\n",
              "      <th>prepared_on_time</th>\n",
              "    </tr>\n",
              "  </thead>\n",
              "  <tbody>\n",
              "    <tr>\n",
              "      <th>0</th>\n",
              "      <td>0</td>\n",
              "      <td>5014.0</td>\n",
              "      <td>20562761.0</td>\n",
              "      <td>45.5040</td>\n",
              "      <td>2205.0</td>\n",
              "      <td>15.0</td>\n",
              "      <td>683.0</td>\n",
              "      <td>30.49</td>\n",
              "      <td>2.0</td>\n",
              "      <td>1.0</td>\n",
              "    </tr>\n",
              "    <tr>\n",
              "      <th>1</th>\n",
              "      <td>2</td>\n",
              "      <td>3856.0</td>\n",
              "      <td>20562753.0</td>\n",
              "      <td>30.3360</td>\n",
              "      <td>1368.0</td>\n",
              "      <td>10.0</td>\n",
              "      <td>683.0</td>\n",
              "      <td>240.78</td>\n",
              "      <td>2.0</td>\n",
              "      <td>1.0</td>\n",
              "    </tr>\n",
              "    <tr>\n",
              "      <th>2</th>\n",
              "      <td>4</td>\n",
              "      <td>10825.0</td>\n",
              "      <td>20562723.0</td>\n",
              "      <td>43.6080</td>\n",
              "      <td>459.0</td>\n",
              "      <td>20.0</td>\n",
              "      <td>683.0</td>\n",
              "      <td>85.99</td>\n",
              "      <td>1.0</td>\n",
              "      <td>1.0</td>\n",
              "    </tr>\n",
              "    <tr>\n",
              "      <th>3</th>\n",
              "      <td>5</td>\n",
              "      <td>8535.0</td>\n",
              "      <td>20562639.0</td>\n",
              "      <td>11.3128</td>\n",
              "      <td>1749.0</td>\n",
              "      <td>10.0</td>\n",
              "      <td>685.0</td>\n",
              "      <td>80.09</td>\n",
              "      <td>5.0</td>\n",
              "      <td>1.0</td>\n",
              "    </tr>\n",
              "    <tr>\n",
              "      <th>4</th>\n",
              "      <td>10</td>\n",
              "      <td>11449.0</td>\n",
              "      <td>20562617.0</td>\n",
              "      <td>4.4240</td>\n",
              "      <td>1040.0</td>\n",
              "      <td>20.0</td>\n",
              "      <td>695.0</td>\n",
              "      <td>85.99</td>\n",
              "      <td>1.0</td>\n",
              "      <td>1.0</td>\n",
              "    </tr>\n",
              "  </tbody>\n",
              "</table>\n",
              "</div>\n",
              "    <div class=\"colab-df-buttons\">\n",
              "\n",
              "  <div class=\"colab-df-container\">\n",
              "    <button class=\"colab-df-convert\" onclick=\"convertToInteractive('df-72999a64-b9c9-47bb-b306-257153ea01d0')\"\n",
              "            title=\"Convert this dataframe to an interactive table.\"\n",
              "            style=\"display:none;\">\n",
              "\n",
              "  <svg xmlns=\"http://www.w3.org/2000/svg\" height=\"24px\" viewBox=\"0 -960 960 960\">\n",
              "    <path d=\"M120-120v-720h720v720H120Zm60-500h600v-160H180v160Zm220 220h160v-160H400v160Zm0 220h160v-160H400v160ZM180-400h160v-160H180v160Zm440 0h160v-160H620v160ZM180-180h160v-160H180v160Zm440 0h160v-160H620v160Z\"/>\n",
              "  </svg>\n",
              "    </button>\n",
              "\n",
              "  <style>\n",
              "    .colab-df-container {\n",
              "      display:flex;\n",
              "      gap: 12px;\n",
              "    }\n",
              "\n",
              "    .colab-df-convert {\n",
              "      background-color: #E8F0FE;\n",
              "      border: none;\n",
              "      border-radius: 50%;\n",
              "      cursor: pointer;\n",
              "      display: none;\n",
              "      fill: #1967D2;\n",
              "      height: 32px;\n",
              "      padding: 0 0 0 0;\n",
              "      width: 32px;\n",
              "    }\n",
              "\n",
              "    .colab-df-convert:hover {\n",
              "      background-color: #E2EBFA;\n",
              "      box-shadow: 0px 1px 2px rgba(60, 64, 67, 0.3), 0px 1px 3px 1px rgba(60, 64, 67, 0.15);\n",
              "      fill: #174EA6;\n",
              "    }\n",
              "\n",
              "    .colab-df-buttons div {\n",
              "      margin-bottom: 4px;\n",
              "    }\n",
              "\n",
              "    [theme=dark] .colab-df-convert {\n",
              "      background-color: #3B4455;\n",
              "      fill: #D2E3FC;\n",
              "    }\n",
              "\n",
              "    [theme=dark] .colab-df-convert:hover {\n",
              "      background-color: #434B5C;\n",
              "      box-shadow: 0px 1px 3px 1px rgba(0, 0, 0, 0.15);\n",
              "      filter: drop-shadow(0px 1px 2px rgba(0, 0, 0, 0.3));\n",
              "      fill: #FFFFFF;\n",
              "    }\n",
              "  </style>\n",
              "\n",
              "    <script>\n",
              "      const buttonEl =\n",
              "        document.querySelector('#df-72999a64-b9c9-47bb-b306-257153ea01d0 button.colab-df-convert');\n",
              "      buttonEl.style.display =\n",
              "        google.colab.kernel.accessAllowed ? 'block' : 'none';\n",
              "\n",
              "      async function convertToInteractive(key) {\n",
              "        const element = document.querySelector('#df-72999a64-b9c9-47bb-b306-257153ea01d0');\n",
              "        const dataTable =\n",
              "          await google.colab.kernel.invokeFunction('convertToInteractive',\n",
              "                                                    [key], {});\n",
              "        if (!dataTable) return;\n",
              "\n",
              "        const docLinkHtml = 'Like what you see? Visit the ' +\n",
              "          '<a target=\"_blank\" href=https://colab.research.google.com/notebooks/data_table.ipynb>data table notebook</a>'\n",
              "          + ' to learn more about interactive tables.';\n",
              "        element.innerHTML = '';\n",
              "        dataTable['output_type'] = 'display_data';\n",
              "        await google.colab.output.renderOutput(dataTable, element);\n",
              "        const docLink = document.createElement('div');\n",
              "        docLink.innerHTML = docLinkHtml;\n",
              "        element.appendChild(docLink);\n",
              "      }\n",
              "    </script>\n",
              "  </div>\n",
              "\n",
              "\n",
              "<div id=\"df-12ba055e-41a2-4c49-a857-95d94e163135\">\n",
              "  <button class=\"colab-df-quickchart\" onclick=\"quickchart('df-12ba055e-41a2-4c49-a857-95d94e163135')\"\n",
              "            title=\"Suggest charts\"\n",
              "            style=\"display:none;\">\n",
              "\n",
              "<svg xmlns=\"http://www.w3.org/2000/svg\" height=\"24px\"viewBox=\"0 0 24 24\"\n",
              "     width=\"24px\">\n",
              "    <g>\n",
              "        <path d=\"M19 3H5c-1.1 0-2 .9-2 2v14c0 1.1.9 2 2 2h14c1.1 0 2-.9 2-2V5c0-1.1-.9-2-2-2zM9 17H7v-7h2v7zm4 0h-2V7h2v10zm4 0h-2v-4h2v4z\"/>\n",
              "    </g>\n",
              "</svg>\n",
              "  </button>\n",
              "\n",
              "<style>\n",
              "  .colab-df-quickchart {\n",
              "      --bg-color: #E8F0FE;\n",
              "      --fill-color: #1967D2;\n",
              "      --hover-bg-color: #E2EBFA;\n",
              "      --hover-fill-color: #174EA6;\n",
              "      --disabled-fill-color: #AAA;\n",
              "      --disabled-bg-color: #DDD;\n",
              "  }\n",
              "\n",
              "  [theme=dark] .colab-df-quickchart {\n",
              "      --bg-color: #3B4455;\n",
              "      --fill-color: #D2E3FC;\n",
              "      --hover-bg-color: #434B5C;\n",
              "      --hover-fill-color: #FFFFFF;\n",
              "      --disabled-bg-color: #3B4455;\n",
              "      --disabled-fill-color: #666;\n",
              "  }\n",
              "\n",
              "  .colab-df-quickchart {\n",
              "    background-color: var(--bg-color);\n",
              "    border: none;\n",
              "    border-radius: 50%;\n",
              "    cursor: pointer;\n",
              "    display: none;\n",
              "    fill: var(--fill-color);\n",
              "    height: 32px;\n",
              "    padding: 0;\n",
              "    width: 32px;\n",
              "  }\n",
              "\n",
              "  .colab-df-quickchart:hover {\n",
              "    background-color: var(--hover-bg-color);\n",
              "    box-shadow: 0 1px 2px rgba(60, 64, 67, 0.3), 0 1px 3px 1px rgba(60, 64, 67, 0.15);\n",
              "    fill: var(--button-hover-fill-color);\n",
              "  }\n",
              "\n",
              "  .colab-df-quickchart-complete:disabled,\n",
              "  .colab-df-quickchart-complete:disabled:hover {\n",
              "    background-color: var(--disabled-bg-color);\n",
              "    fill: var(--disabled-fill-color);\n",
              "    box-shadow: none;\n",
              "  }\n",
              "\n",
              "  .colab-df-spinner {\n",
              "    border: 2px solid var(--fill-color);\n",
              "    border-color: transparent;\n",
              "    border-bottom-color: var(--fill-color);\n",
              "    animation:\n",
              "      spin 1s steps(1) infinite;\n",
              "  }\n",
              "\n",
              "  @keyframes spin {\n",
              "    0% {\n",
              "      border-color: transparent;\n",
              "      border-bottom-color: var(--fill-color);\n",
              "      border-left-color: var(--fill-color);\n",
              "    }\n",
              "    20% {\n",
              "      border-color: transparent;\n",
              "      border-left-color: var(--fill-color);\n",
              "      border-top-color: var(--fill-color);\n",
              "    }\n",
              "    30% {\n",
              "      border-color: transparent;\n",
              "      border-left-color: var(--fill-color);\n",
              "      border-top-color: var(--fill-color);\n",
              "      border-right-color: var(--fill-color);\n",
              "    }\n",
              "    40% {\n",
              "      border-color: transparent;\n",
              "      border-right-color: var(--fill-color);\n",
              "      border-top-color: var(--fill-color);\n",
              "    }\n",
              "    60% {\n",
              "      border-color: transparent;\n",
              "      border-right-color: var(--fill-color);\n",
              "    }\n",
              "    80% {\n",
              "      border-color: transparent;\n",
              "      border-right-color: var(--fill-color);\n",
              "      border-bottom-color: var(--fill-color);\n",
              "    }\n",
              "    90% {\n",
              "      border-color: transparent;\n",
              "      border-bottom-color: var(--fill-color);\n",
              "    }\n",
              "  }\n",
              "</style>\n",
              "\n",
              "  <script>\n",
              "    async function quickchart(key) {\n",
              "      const quickchartButtonEl =\n",
              "        document.querySelector('#' + key + ' button');\n",
              "      quickchartButtonEl.disabled = true;  // To prevent multiple clicks.\n",
              "      quickchartButtonEl.classList.add('colab-df-spinner');\n",
              "      try {\n",
              "        const charts = await google.colab.kernel.invokeFunction(\n",
              "            'suggestCharts', [key], {});\n",
              "      } catch (error) {\n",
              "        console.error('Error during call to suggestCharts:', error);\n",
              "      }\n",
              "      quickchartButtonEl.classList.remove('colab-df-spinner');\n",
              "      quickchartButtonEl.classList.add('colab-df-quickchart-complete');\n",
              "    }\n",
              "    (() => {\n",
              "      let quickchartButtonEl =\n",
              "        document.querySelector('#df-12ba055e-41a2-4c49-a857-95d94e163135 button');\n",
              "      quickchartButtonEl.style.display =\n",
              "        google.colab.kernel.accessAllowed ? 'block' : 'none';\n",
              "    })();\n",
              "  </script>\n",
              "</div>\n",
              "    </div>\n",
              "  </div>\n"
            ],
            "application/vnd.google.colaboratory.intrinsic+json": {
              "type": "dataframe",
              "variable_name": "df",
              "summary": "{\n  \"name\": \"df\",\n  \"rows\": 5959,\n  \"fields\": [\n    {\n      \"column\": \"Unnamed: 0\",\n      \"properties\": {\n        \"dtype\": \"number\",\n        \"std\": 4398,\n        \"min\": 0,\n        \"max\": 15263,\n        \"num_unique_values\": 5959,\n        \"samples\": [\n          3256,\n          1525,\n          15106\n        ],\n        \"semantic_type\": \"\",\n        \"description\": \"\"\n      }\n    },\n    {\n      \"column\": \"store_id\",\n      \"properties\": {\n        \"dtype\": \"number\",\n        \"std\": 2869.5850397106205,\n        \"min\": 3053.0,\n        \"max\": 11963.0,\n        \"num_unique_values\": 805,\n        \"samples\": [\n          8613.0,\n          10731.0,\n          11819.0\n        ],\n        \"semantic_type\": \"\",\n        \"description\": \"\"\n      }\n    },\n    {\n      \"column\": \"order_id\",\n      \"properties\": {\n        \"dtype\": \"number\",\n        \"std\": 7707.6799815525,\n        \"min\": 20535831.0,\n        \"max\": 20562761.0,\n        \"num_unique_values\": 5959,\n        \"samples\": [\n          20556269.0,\n          20559859.0,\n          20536071.0\n        ],\n        \"semantic_type\": \"\",\n        \"description\": \"\"\n      }\n    },\n    {\n      \"column\": \"profit\",\n      \"properties\": {\n        \"dtype\": \"number\",\n        \"std\": 41.864780193239625,\n        \"min\": -1.83589100871086,\n        \"max\": 482.69000000000005,\n        \"num_unique_values\": 2304,\n        \"samples\": [\n          61.9126573778467,\n          15.405,\n          21.25871895606906\n        ],\n        \"semantic_type\": \"\",\n        \"description\": \"\"\n      }\n    },\n    {\n      \"column\": \"delivery_distance\",\n      \"properties\": {\n        \"dtype\": \"number\",\n        \"std\": 3116.995075509715,\n        \"min\": 23.0,\n        \"max\": 17928.0,\n        \"num_unique_values\": 4244,\n        \"samples\": [\n          5265.0,\n          7189.0,\n          1598.0\n        ],\n        \"semantic_type\": \"\",\n        \"description\": \"\"\n      }\n    },\n    {\n      \"column\": \"planned_prep_time\",\n      \"properties\": {\n        \"dtype\": \"number\",\n        \"std\": 7.984309347738148,\n        \"min\": 1.0,\n        \"max\": 90.0,\n        \"num_unique_values\": 35,\n        \"samples\": [\n          11.0,\n          80.0,\n          36.0\n        ],\n        \"semantic_type\": \"\",\n        \"description\": \"\"\n      }\n    },\n    {\n      \"column\": \"region_id\",\n      \"properties\": {\n        \"dtype\": \"number\",\n        \"std\": 9.955644738260354,\n        \"min\": 683.0,\n        \"max\": 717.0,\n        \"num_unique_values\": 13,\n        \"samples\": [\n          697.0,\n          689.0,\n          683.0\n        ],\n        \"semantic_type\": \"\",\n        \"description\": \"\"\n      }\n    },\n    {\n      \"column\": \"order_price\",\n      \"properties\": {\n        \"dtype\": \"number\",\n        \"std\": 82.45555074610037,\n        \"min\": 1.56,\n        \"max\": 538.2249999999999,\n        \"num_unique_values\": 3591,\n        \"samples\": [\n          31.02,\n          68.15,\n          116.54\n        ],\n        \"semantic_type\": \"\",\n        \"description\": \"\"\n      }\n    },\n    {\n      \"column\": \"items_count\",\n      \"properties\": {\n        \"dtype\": \"number\",\n        \"std\": 1.514903522801365,\n        \"min\": 1.0,\n        \"max\": 12.0,\n        \"num_unique_values\": 12,\n        \"samples\": [\n          11.0,\n          10.0,\n          2.0\n        ],\n        \"semantic_type\": \"\",\n        \"description\": \"\"\n      }\n    },\n    {\n      \"column\": \"prepared_on_time\",\n      \"properties\": {\n        \"dtype\": \"number\",\n        \"std\": 0.3707209751585171,\n        \"min\": 0.0,\n        \"max\": 1.0,\n        \"num_unique_values\": 2,\n        \"samples\": [\n          0.0,\n          1.0\n        ],\n        \"semantic_type\": \"\",\n        \"description\": \"\"\n      }\n    }\n  ]\n}"
            }
          },
          "metadata": {},
          "execution_count": 3
        }
      ]
    },
    {
      "cell_type": "markdown",
      "source": [
        "Можно видеть, что помимо всех данных в датасет попал лишний индексирующий столбец. Его стоит удалить."
      ],
      "metadata": {
        "id": "qYc8PQ4EeptU"
      }
    },
    {
      "cell_type": "markdown",
      "source": [
        "Удаляем ненужный столбец и смотрим на типы данных, пропущенные значения, структуру нашего датасета."
      ],
      "metadata": {
        "id": "mcFRNX84eCXJ"
      }
    },
    {
      "cell_type": "code",
      "source": [
        "df.drop(df.columns[0], axis = 1)\n",
        "df.info()"
      ],
      "metadata": {
        "colab": {
          "base_uri": "https://localhost:8080/"
        },
        "id": "9HhkHyleNlO0",
        "outputId": "37db9097-7bdc-4fee-d052-c5c8ddd1443a"
      },
      "execution_count": 4,
      "outputs": [
        {
          "output_type": "stream",
          "name": "stdout",
          "text": [
            "<class 'pandas.core.frame.DataFrame'>\n",
            "RangeIndex: 5959 entries, 0 to 5958\n",
            "Data columns (total 10 columns):\n",
            " #   Column             Non-Null Count  Dtype  \n",
            "---  ------             --------------  -----  \n",
            " 0   Unnamed: 0         5959 non-null   int64  \n",
            " 1   store_id           5959 non-null   float64\n",
            " 2   order_id           5959 non-null   float64\n",
            " 3   profit             5959 non-null   float64\n",
            " 4   delivery_distance  5959 non-null   float64\n",
            " 5   planned_prep_time  5959 non-null   float64\n",
            " 6   region_id          5959 non-null   float64\n",
            " 7   order_price        5959 non-null   float64\n",
            " 8   items_count        5959 non-null   float64\n",
            " 9   prepared_on_time   5959 non-null   float64\n",
            "dtypes: float64(9), int64(1)\n",
            "memory usage: 465.7 KB\n"
          ]
        }
      ]
    },
    {
      "cell_type": "markdown",
      "source": [
        "### Разделение данных"
      ],
      "metadata": {
        "id": "gmYUpukncoVF"
      }
    },
    {
      "cell_type": "markdown",
      "source": [
        "Для обучения моделей необходимо разделить данные на признаки (X) и целевую переменную (y). Также нужно разделить данные на обучающую и тестовую выборку. Это позволит проверять точность модели, возможные переобучение или недообучение."
      ],
      "metadata": {
        "id": "z3kHZ_NXfAi3"
      }
    },
    {
      "cell_type": "code",
      "source": [
        "from sklearn.model_selection import train_test_split\n",
        "\n",
        "X = df.drop(['prepared_on_time'], axis = 1).copy()\n",
        "y = df['prepared_on_time']\n",
        "\n",
        "X_train, X_test, y_train, y_test = train_test_split(X, y, random_state = 52, test_size = 0.3, stratify = y)"
      ],
      "metadata": {
        "id": "5trPwRH9Nvm6"
      },
      "execution_count": 5,
      "outputs": []
    },
    {
      "cell_type": "markdown",
      "source": [
        "Выполнили это. При разделении добавили stratify = y, то есть провели стратификацию по целевой переменной. Это означает, что при разбиении на выборки в каждой из выборок будут представлены экземпляры каждого класса переменной y. При этом это будет в изначальных пропорциях исходного датасета."
      ],
      "metadata": {
        "id": "fc9bAO1zfpOB"
      }
    },
    {
      "cell_type": "markdown",
      "source": [
        "## Ансамбль моделей"
      ],
      "metadata": {
        "id": "4Uksvh9hdL3E"
      }
    },
    {
      "cell_type": "markdown",
      "source": [
        "### Подбор гиперпараметров и обучение"
      ],
      "metadata": {
        "id": "fuunBKcodaZm"
      }
    },
    {
      "cell_type": "markdown",
      "source": [
        "Установим необходимую библиотеку для подбора гиперпараметров для ансамблевых методов."
      ],
      "metadata": {
        "id": "yyD2ifGdgPHU"
      }
    },
    {
      "cell_type": "code",
      "source": [
        "!pip install --quiet optuna"
      ],
      "metadata": {
        "colab": {
          "base_uri": "https://localhost:8080/"
        },
        "id": "F-8U28YV69Dd",
        "outputId": "cdff8921-12fa-4b1e-dec7-3a049a60872d"
      },
      "execution_count": 6,
      "outputs": [
        {
          "output_type": "stream",
          "name": "stdout",
          "text": [
            "\u001b[?25l   \u001b[90m━━━━━━━━━━━━━━━━━━━━━━━━━━━━━━━━━━━━━━━━\u001b[0m \u001b[32m0.0/364.4 kB\u001b[0m \u001b[31m?\u001b[0m eta \u001b[36m-:--:--\u001b[0m\r\u001b[2K   \u001b[91m━━━━━━━━━━━━━━━━━━━━━━━━━━━━━━━━━━━━━━━\u001b[0m\u001b[90m╺\u001b[0m \u001b[32m358.4/364.4 kB\u001b[0m \u001b[31m16.9 MB/s\u001b[0m eta \u001b[36m0:00:01\u001b[0m\r\u001b[2K   \u001b[90m━━━━━━━━━━━━━━━━━━━━━━━━━━━━━━━━━━━━━━━━\u001b[0m \u001b[32m364.4/364.4 kB\u001b[0m \u001b[31m9.8 MB/s\u001b[0m eta \u001b[36m0:00:00\u001b[0m\n",
            "\u001b[?25h\u001b[?25l   \u001b[90m━━━━━━━━━━━━━━━━━━━━━━━━━━━━━━━━━━━━━━━━\u001b[0m \u001b[32m0.0/233.5 kB\u001b[0m \u001b[31m?\u001b[0m eta \u001b[36m-:--:--\u001b[0m\r\u001b[2K   \u001b[90m━━━━━━━━━━━━━━━━━━━━━━━━━━━━━━━━━━━━━━━━\u001b[0m \u001b[32m233.5/233.5 kB\u001b[0m \u001b[31m14.5 MB/s\u001b[0m eta \u001b[36m0:00:00\u001b[0m\n",
            "\u001b[?25h\u001b[?25l   \u001b[90m━━━━━━━━━━━━━━━━━━━━━━━━━━━━━━━━━━━━━━━━\u001b[0m \u001b[32m0.0/78.6 kB\u001b[0m \u001b[31m?\u001b[0m eta \u001b[36m-:--:--\u001b[0m\r\u001b[2K   \u001b[90m━━━━━━━━━━━━━━━━━━━━━━━━━━━━━━━━━━━━━━━━\u001b[0m \u001b[32m78.6/78.6 kB\u001b[0m \u001b[31m5.3 MB/s\u001b[0m eta \u001b[36m0:00:00\u001b[0m\n",
            "\u001b[?25h"
          ]
        }
      ]
    },
    {
      "cell_type": "code",
      "source": [
        "import optuna\n",
        "from sklearn.tree import DecisionTreeClassifier\n",
        "from sklearn.ensemble import BaggingClassifier\n",
        "from sklearn.model_selection import cross_val_score\n",
        "\n",
        "\n",
        "def objective(trial):\n",
        "  n_estimators = trial.suggest_int('n_estimators', 2, 100)\n",
        "  max_depth = trial.suggest_int('max_depth', 2, 20)\n",
        "  min_samples_leaf = trial.suggest_int('min_samples_leaf', 1, 10)\n",
        "\n",
        "  base_estimator = DecisionTreeClassifier(\n",
        "      max_depth = max_depth,\n",
        "      min_samples_leaf = min_samples_leaf,\n",
        "      class_weight = 'balanced'\n",
        "  )\n",
        "\n",
        "  ensemble = BaggingClassifier(\n",
        "      estimator = base_estimator,\n",
        "      n_estimators = n_estimators,\n",
        "      random_state = 52\n",
        "  )\n",
        "\n",
        "  score = cross_val_score(ensemble, X_train, y_train, cv = 5, scoring = 'accuracy').mean()\n",
        "  return score\n",
        "\n",
        "\n",
        "study = optuna.create_study(direction = 'maximize')\n",
        "study.optimize(objective, n_trials = 50)\n",
        "trial = study.best_trial\n",
        "\n",
        "print('Точность модели по метрике Accuracy: ', trial.value)\n",
        "print('Лучшие гиперпараметры :', trial.params)"
      ],
      "metadata": {
        "id": "IXyy9CF87Clb",
        "colab": {
          "base_uri": "https://localhost:8080/"
        },
        "outputId": "1b3d9a6e-98a5-432a-90de-815e191ed227"
      },
      "execution_count": 7,
      "outputs": [
        {
          "output_type": "stream",
          "name": "stderr",
          "text": [
            "[I 2024-12-11 10:53:40,832] A new study created in memory with name: no-name-743ced66-85ec-45c5-91c6-4cc83cd5477d\n",
            "[I 2024-12-11 10:53:53,997] Trial 0 finished with value: 0.5996206148853374 and parameters: {'n_estimators': 99, 'max_depth': 3, 'min_samples_leaf': 8}. Best is trial 0 with value: 0.5996206148853374.\n",
            "[I 2024-12-11 10:54:05,709] Trial 1 finished with value: 0.7940495986444377 and parameters: {'n_estimators': 39, 'max_depth': 19, 'min_samples_leaf': 8}. Best is trial 1 with value: 0.7940495986444377.\n",
            "[I 2024-12-11 10:54:09,462] Trial 2 finished with value: 0.5725303350134263 and parameters: {'n_estimators': 79, 'max_depth': 2, 'min_samples_leaf': 10}. Best is trial 1 with value: 0.7940495986444377.\n",
            "[I 2024-12-11 10:54:12,007] Trial 3 finished with value: 0.6403785235284827 and parameters: {'n_estimators': 37, 'max_depth': 5, 'min_samples_leaf': 4}. Best is trial 1 with value: 0.7940495986444377.\n",
            "[I 2024-12-11 10:54:14,272] Trial 4 finished with value: 0.6468516205000071 and parameters: {'n_estimators': 33, 'max_depth': 5, 'min_samples_leaf': 6}. Best is trial 1 with value: 0.7940495986444377.\n",
            "[I 2024-12-11 10:54:18,843] Trial 5 finished with value: 0.7811034047013885 and parameters: {'n_estimators': 30, 'max_depth': 18, 'min_samples_leaf': 10}. Best is trial 1 with value: 0.7940495986444377.\n",
            "[I 2024-12-11 10:54:27,612] Trial 6 finished with value: 0.7547351340484498 and parameters: {'n_estimators': 93, 'max_depth': 8, 'min_samples_leaf': 2}. Best is trial 1 with value: 0.7940495986444377.\n",
            "[I 2024-12-11 10:54:28,006] Trial 7 finished with value: 0.5835477246944959 and parameters: {'n_estimators': 7, 'max_depth': 3, 'min_samples_leaf': 2}. Best is trial 1 with value: 0.7940495986444377.\n",
            "[I 2024-12-11 10:54:28,930] Trial 8 finished with value: 0.7803845546317437 and parameters: {'n_estimators': 7, 'max_depth': 17, 'min_samples_leaf': 3}. Best is trial 1 with value: 0.7940495986444377.\n",
            "[I 2024-12-11 10:54:36,775] Trial 9 finished with value: 0.6808928904780368 and parameters: {'n_estimators': 82, 'max_depth': 6, 'min_samples_leaf': 5}. Best is trial 1 with value: 0.7940495986444377.\n",
            "[I 2024-12-11 10:54:43,413] Trial 10 finished with value: 0.798127486035124 and parameters: {'n_estimators': 58, 'max_depth': 14, 'min_samples_leaf': 7}. Best is trial 10 with value: 0.798127486035124.\n",
            "[I 2024-12-11 10:54:51,471] Trial 11 finished with value: 0.7974083487700857 and parameters: {'n_estimators': 59, 'max_depth': 14, 'min_samples_leaf': 7}. Best is trial 10 with value: 0.798127486035124.\n",
            "[I 2024-12-11 10:54:58,161] Trial 12 finished with value: 0.7950096928445267 and parameters: {'n_estimators': 60, 'max_depth': 13, 'min_samples_leaf': 7}. Best is trial 10 with value: 0.798127486035124.\n",
            "[I 2024-12-11 10:55:06,196] Trial 13 finished with value: 0.7923726647424576 and parameters: {'n_estimators': 59, 'max_depth': 14, 'min_samples_leaf': 8}. Best is trial 10 with value: 0.798127486035124.\n",
            "[I 2024-12-11 10:55:13,308] Trial 14 finished with value: 0.7813443616364394 and parameters: {'n_estimators': 69, 'max_depth': 10, 'min_samples_leaf': 6}. Best is trial 10 with value: 0.798127486035124.\n",
            "[I 2024-12-11 10:55:20,393] Trial 15 finished with value: 0.7983661454070277 and parameters: {'n_estimators': 50, 'max_depth': 15, 'min_samples_leaf': 7}. Best is trial 15 with value: 0.7983661454070277.\n",
            "[I 2024-12-11 10:55:25,453] Trial 16 finished with value: 0.7724726087393557 and parameters: {'n_estimators': 49, 'max_depth': 11, 'min_samples_leaf': 9}. Best is trial 15 with value: 0.7983661454070277.\n",
            "[I 2024-12-11 10:55:28,356] Trial 17 finished with value: 0.8024417352345669 and parameters: {'n_estimators': 24, 'max_depth': 16, 'min_samples_leaf': 5}. Best is trial 17 with value: 0.8024417352345669.\n",
            "[I 2024-12-11 10:55:31,526] Trial 18 finished with value: 0.8012424072717874 and parameters: {'n_estimators': 19, 'max_depth': 16, 'min_samples_leaf': 4}. Best is trial 17 with value: 0.8024417352345669.\n",
            "[I 2024-12-11 10:55:34,514] Trial 19 finished with value: 0.8031602981088183 and parameters: {'n_estimators': 20, 'max_depth': 20, 'min_samples_leaf': 4}. Best is trial 19 with value: 0.8031602981088183.\n",
            "[I 2024-12-11 10:55:37,077] Trial 20 finished with value: 0.8264205402145348 and parameters: {'n_estimators': 19, 'max_depth': 20, 'min_samples_leaf': 1}. Best is trial 20 with value: 0.8264205402145348.\n",
            "[I 2024-12-11 10:55:39,908] Trial 21 finished with value: 0.8273800600238372 and parameters: {'n_estimators': 21, 'max_depth': 20, 'min_samples_leaf': 1}. Best is trial 21 with value: 0.8273800600238372.\n",
            "[I 2024-12-11 10:55:42,499] Trial 22 finished with value: 0.8264205402145348 and parameters: {'n_estimators': 19, 'max_depth': 20, 'min_samples_leaf': 1}. Best is trial 21 with value: 0.8273800600238372.\n",
            "[I 2024-12-11 10:55:43,099] Trial 23 finished with value: 0.7628883240712818 and parameters: {'n_estimators': 4, 'max_depth': 20, 'min_samples_leaf': 1}. Best is trial 21 with value: 0.8273800600238372.\n",
            "[I 2024-12-11 10:55:45,332] Trial 24 finished with value: 0.8189887850198883 and parameters: {'n_estimators': 12, 'max_depth': 18, 'min_samples_leaf': 1}. Best is trial 21 with value: 0.8273800600238372.\n",
            "[I 2024-12-11 10:55:48,005] Trial 25 finished with value: 0.8146716638665115 and parameters: {'n_estimators': 15, 'max_depth': 20, 'min_samples_leaf': 2}. Best is trial 21 with value: 0.8273800600238372.\n",
            "[I 2024-12-11 10:55:51,940] Trial 26 finished with value: 0.8297772799724292 and parameters: {'n_estimators': 29, 'max_depth': 18, 'min_samples_leaf': 1}. Best is trial 26 with value: 0.8297772799724292.\n",
            "[I 2024-12-11 10:55:55,379] Trial 27 finished with value: 0.8182656270193427 and parameters: {'n_estimators': 27, 'max_depth': 18, 'min_samples_leaf': 3}. Best is trial 26 with value: 0.8297772799724292.\n",
            "[I 2024-12-11 10:56:01,766] Trial 28 finished with value: 0.8237815017447119 and parameters: {'n_estimators': 42, 'max_depth': 17, 'min_samples_leaf': 3}. Best is trial 26 with value: 0.8297772799724292.\n",
            "[I 2024-12-11 10:56:07,853] Trial 29 finished with value: 0.8326544034233692 and parameters: {'n_estimators': 44, 'max_depth': 19, 'min_samples_leaf': 1}. Best is trial 29 with value: 0.8326544034233692.\n",
            "[I 2024-12-11 10:56:13,324] Trial 30 finished with value: 0.8266589123910453 and parameters: {'n_estimators': 41, 'max_depth': 16, 'min_samples_leaf': 2}. Best is trial 29 with value: 0.8326544034233692.\n",
            "[I 2024-12-11 10:56:20,250] Trial 31 finished with value: 0.8302560346932035 and parameters: {'n_estimators': 45, 'max_depth': 18, 'min_samples_leaf': 2}. Best is trial 29 with value: 0.8326544034233692.\n",
            "[I 2024-12-11 10:56:26,202] Trial 32 finished with value: 0.8316954580048537 and parameters: {'n_estimators': 45, 'max_depth': 18, 'min_samples_leaf': 1}. Best is trial 29 with value: 0.8326544034233692.\n",
            "[I 2024-12-11 10:56:34,864] Trial 33 finished with value: 0.8302560346932035 and parameters: {'n_estimators': 46, 'max_depth': 18, 'min_samples_leaf': 2}. Best is trial 29 with value: 0.8326544034233692.\n",
            "[I 2024-12-11 10:56:40,373] Trial 34 finished with value: 0.8091580867042893 and parameters: {'n_estimators': 46, 'max_depth': 12, 'min_samples_leaf': 2}. Best is trial 29 with value: 0.8326544034233692.\n",
            "[I 2024-12-11 10:56:50,156] Trial 35 finished with value: 0.8261795832794843 and parameters: {'n_estimators': 68, 'max_depth': 17, 'min_samples_leaf': 3}. Best is trial 29 with value: 0.8326544034233692.\n",
            "[I 2024-12-11 10:56:54,859] Trial 36 finished with value: 0.8276190065911342 and parameters: {'n_estimators': 36, 'max_depth': 19, 'min_samples_leaf': 2}. Best is trial 29 with value: 0.8326544034233692.\n",
            "[I 2024-12-11 10:57:01,175] Trial 37 finished with value: 0.8235422679820216 and parameters: {'n_estimators': 44, 'max_depth': 19, 'min_samples_leaf': 3}. Best is trial 29 with value: 0.8326544034233692.\n",
            "[I 2024-12-11 10:57:08,307] Trial 38 finished with value: 0.8242628412240268 and parameters: {'n_estimators': 52, 'max_depth': 15, 'min_samples_leaf': 2}. Best is trial 29 with value: 0.8326544034233692.\n",
            "[I 2024-12-11 10:57:11,878] Trial 39 finished with value: 0.7669578827955599 and parameters: {'n_estimators': 36, 'max_depth': 9, 'min_samples_leaf': 4}. Best is trial 29 with value: 0.8326544034233692.\n",
            "[I 2024-12-11 10:57:22,267] Trial 40 finished with value: 0.8328942115768463 and parameters: {'n_estimators': 68, 'max_depth': 19, 'min_samples_leaf': 1}. Best is trial 40 with value: 0.8328942115768463.\n",
            "[I 2024-12-11 10:57:32,462] Trial 41 finished with value: 0.8333738278838008 and parameters: {'n_estimators': 67, 'max_depth': 19, 'min_samples_leaf': 1}. Best is trial 41 with value: 0.8333738278838008.\n",
            "[I 2024-12-11 10:57:42,287] Trial 42 finished with value: 0.8333738278838008 and parameters: {'n_estimators': 74, 'max_depth': 19, 'min_samples_leaf': 1}. Best is trial 41 with value: 0.8333738278838008.\n",
            "[I 2024-12-11 10:57:54,155] Trial 43 finished with value: 0.8333735406884074 and parameters: {'n_estimators': 80, 'max_depth': 19, 'min_samples_leaf': 1}. Best is trial 41 with value: 0.8333738278838008.\n",
            "[I 2024-12-11 10:58:06,019] Trial 44 finished with value: 0.8321747871164147 and parameters: {'n_estimators': 81, 'max_depth': 17, 'min_samples_leaf': 1}. Best is trial 41 with value: 0.8333738278838008.\n",
            "[I 2024-12-11 10:58:18,917] Trial 45 finished with value: 0.8333735406884074 and parameters: {'n_estimators': 87, 'max_depth': 19, 'min_samples_leaf': 1}. Best is trial 41 with value: 0.8333738278838008.\n",
            "[I 2024-12-11 10:58:27,389] Trial 46 finished with value: 0.7298019787762604 and parameters: {'n_estimators': 94, 'max_depth': 7, 'min_samples_leaf': 1}. Best is trial 41 with value: 0.8333738278838008.\n",
            "[I 2024-12-11 10:58:37,705] Trial 47 finished with value: 0.8283375694653857 and parameters: {'n_estimators': 75, 'max_depth': 19, 'min_samples_leaf': 3}. Best is trial 41 with value: 0.8333738278838008.\n",
            "[I 2024-12-11 10:58:42,752] Trial 48 finished with value: 0.5965051192578872 and parameters: {'n_estimators': 88, 'max_depth': 3, 'min_samples_leaf': 2}. Best is trial 41 with value: 0.8333738278838008.\n",
            "[I 2024-12-11 10:58:52,998] Trial 49 finished with value: 0.8333738278838008 and parameters: {'n_estimators': 73, 'max_depth': 19, 'min_samples_leaf': 1}. Best is trial 41 with value: 0.8333738278838008.\n"
          ]
        },
        {
          "output_type": "stream",
          "name": "stdout",
          "text": [
            "Точность модели по метрике Accuracy:  0.8333738278838008\n",
            "Лучшие гиперпараметры : {'n_estimators': 67, 'max_depth': 19, 'min_samples_leaf': 1}\n"
          ]
        }
      ]
    },
    {
      "cell_type": "markdown",
      "source": [
        "## Сравнение ансамблей"
      ],
      "metadata": {
        "id": "82DkxbKWdjsG"
      }
    },
    {
      "cell_type": "code",
      "source": [
        "from sklearn.ensemble import RandomForestClassifier\n",
        "from sklearn.metrics import accuracy_score, precision_score, recall_score, f1_score, classification_report\n",
        "\n",
        "best_params = study.best_params\n",
        "\n",
        "best_model = BaggingClassifier(\n",
        "    estimator = DecisionTreeClassifier(\n",
        "        max_depth = best_params['max_depth'],\n",
        "        min_samples_leaf = best_params['min_samples_leaf'],\n",
        "        class_weight = 'balanced'\n",
        "    ),\n",
        "    n_estimators = best_params['n_estimators'],\n",
        "    random_state = 52\n",
        ")\n",
        "\n",
        "random_forest = RandomForestClassifier(\n",
        "    n_estimators = best_params['n_estimators'],\n",
        "    max_depth = best_params['max_depth'],\n",
        "    min_samples_leaf = best_params['min_samples_leaf'],\n",
        "    class_weight = 'balanced',\n",
        "    random_state = 42\n",
        ")\n",
        "\n",
        "best_model.fit(X_train, y_train)\n",
        "random_forest.fit(X_train, y_train)\n",
        "\n",
        "best_model_pred = best_model.predict(X_test)\n",
        "random_forest_pred = random_forest.predict(X_test)\n",
        "\n",
        "print('Качество выбранной модели BaggingClassifier, ансамбль из DecisionTreeClassifier')\n",
        "print(classification_report(y_test, best_model_pred))\n",
        "print('Метрика Accuracy: ', accuracy_score(y_test, best_model_pred))\n",
        "print('Метрика Precision: ', precision_score(y_test, best_model_pred))\n",
        "print('Метрика Recall: ', recall_score(y_test, best_model_pred))\n",
        "print('Метрика F1-Score: ', f1_score(y_test, best_model_pred))\n",
        "\n",
        "print('\\nКачество модели RandomForestClassifier')\n",
        "print(classification_report(y_test, random_forest_pred))\n",
        "print('Метрика Accuracy: ', accuracy_score(y_test, random_forest_pred))\n",
        "print('Метрика Precision: ', precision_score(y_test, random_forest_pred))\n",
        "print('Метрика Recall: ', recall_score(y_test, random_forest_pred))\n",
        "print('Метрика F1-Score: ', f1_score(y_test, random_forest_pred))"
      ],
      "metadata": {
        "id": "QVxKdF0eJfiv",
        "colab": {
          "base_uri": "https://localhost:8080/"
        },
        "outputId": "5f719034-3147-4a25-e8c2-58e0e18c8e0b"
      },
      "execution_count": 13,
      "outputs": [
        {
          "output_type": "stream",
          "name": "stdout",
          "text": [
            "Качество выбранной модели BaggingClassifier, ансамбль из DecisionTreeClassifier\n",
            "              precision    recall  f1-score   support\n",
            "\n",
            "         0.0       0.22      0.01      0.01       294\n",
            "         1.0       0.84      1.00      0.91      1494\n",
            "\n",
            "    accuracy                           0.83      1788\n",
            "   macro avg       0.53      0.50      0.46      1788\n",
            "weighted avg       0.73      0.83      0.76      1788\n",
            "\n",
            "Метрика Accuracy:  0.8327740492170023\n",
            "Метрика Precision:  0.8358628442945475\n",
            "Метрика Recall:  0.9953145917001339\n",
            "Метрика F1-Score:  0.9086465016804155\n",
            "\n",
            "Качество модели RandomForestClassifier\n",
            "              precision    recall  f1-score   support\n",
            "\n",
            "         0.0       0.22      0.01      0.01       294\n",
            "         1.0       0.84      1.00      0.91      1494\n",
            "\n",
            "    accuracy                           0.83      1788\n",
            "   macro avg       0.53      0.50      0.46      1788\n",
            "weighted avg       0.73      0.83      0.76      1788\n",
            "\n",
            "Метрика Accuracy:  0.8327740492170023\n",
            "Метрика Precision:  0.8358628442945475\n",
            "Метрика Recall:  0.9953145917001339\n",
            "Метрика F1-Score:  0.9086465016804155\n"
          ]
        }
      ]
    },
    {
      "cell_type": "markdown",
      "source": [
        "## Визуализация и выводы"
      ],
      "metadata": {
        "id": "iTSvwLpidogh"
      }
    },
    {
      "cell_type": "code",
      "source": [
        "import matplotlib.pyplot as plt\n",
        "\n",
        "max_depth = best_params[\"max_depth\"]\n",
        "min_samples_leaf = best_params[\"min_samples_leaf\"]\n",
        "\n",
        "n_estimators_range = list(range(1, 101))  # Преобразуем в список\n",
        "scores = []\n",
        "\n",
        "\n",
        "for n_estimators in n_estimators_range:\n",
        "    model = BaggingClassifier(\n",
        "        estimator=DecisionTreeClassifier(\n",
        "            max_depth=max_depth,\n",
        "            min_samples_leaf=min_samples_leaf,\n",
        "            class_weight=\"balanced\"\n",
        "        ),\n",
        "        n_estimators=n_estimators,\n",
        "        random_state=52\n",
        "    )\n",
        "\n",
        "    model.fit(X_train, y_train)\n",
        "\n",
        "    score = model.score(X_test, y_test)\n",
        "    scores.append(score)\n",
        "\n",
        "plt.figure(figsize=(12, 8))\n",
        "plt.plot(n_estimators_range, scores, marker='o', linestyle='-', label='Accuracy', color = 'orange')\n",
        "plt.xlabel(\"Число решающих деревьев в ансамбле (n_estimators)\")\n",
        "plt.ylabel(\"Точность ансамбля (Accuracy)\")\n",
        "plt.title(\"Точность на тестовой выборке в зависимости от n_estimators\")\n",
        "plt.grid(True)\n",
        "plt.show()"
      ],
      "metadata": {
        "colab": {
          "base_uri": "https://localhost:8080/",
          "height": 719
        },
        "id": "q8oVrYpN8J-5",
        "outputId": "fcf68350-29cc-402b-e854-d858ffea91b3"
      },
      "execution_count": 20,
      "outputs": [
        {
          "output_type": "display_data",
          "data": {
            "text/plain": [
              "<Figure size 1200x800 with 1 Axes>"
            ],
            "image/png": "[encoded data removed]"
          },
          "metadata": {}
        }
      ]
    }
  ]
}