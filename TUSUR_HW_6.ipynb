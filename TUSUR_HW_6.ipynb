{
  "nbformat": 4,
  "nbformat_minor": 0,
  "metadata": {
    "colab": {
      "provenance": [],
      "authorship_tag": "ABX9TyPdfI4JBjmXpjX/v5/t4+p4",
      "include_colab_link": true
    },
    "kernelspec": {
      "name": "python3",
      "display_name": "Python 3"
    },
    "language_info": {
      "name": "python"
    }
  },
  "cells": [
    {
      "cell_type": "markdown",
      "metadata": {
        "id": "view-in-github",
        "colab_type": "text"
      },
      "source": [
        "<a href=\"https://colab.research.google.com/github/F1ameX/TUSUR_ML/blob/main/TUSUR_HW_6.ipynb\" target=\"_parent\"><img src=\"https://colab.research.google.com/assets/colab-badge.svg\" alt=\"Open In Colab\"/></a>"
      ]
    },
    {
      "cell_type": "markdown",
      "source": [
        "## Задача 1"
      ],
      "metadata": {
        "id": "9piU60wZdZdz"
      }
    },
    {
      "cell_type": "markdown",
      "source": [
        "Бросается 6-гранный кубик. А - вероятность выпадения значений 1 или 2.\n",
        "В - отрицание A. Необходимо найти величины A и B. Чему равно распределение дискретной случайной величины X?"
      ],
      "metadata": {
        "id": "4UgndQi6dxI3"
      }
    },
    {
      "cell_type": "markdown",
      "source": [
        "**Решение:**\n",
        "\n",
        "\n",
        "1.   Определим вероятность события A  \n",
        "Выпадает число 1 или выпадает число 2. Так как кубик имеет всего 6 граней, то получаем:  \n",
        "P(A) = $\\frac{\\text{Количество благоприятных исходов}}{\\text{Количество всех исходов}}$ = $\\frac{2}{6}$ = $\\frac{1}{3}$  \n",
        "\n",
        "2.   Определим вероятность события B\n",
        "Из условия знаем, что событие B - это отрицание события A. Грубо говоря, B = $\\neg$A  \n",
        "Это означает, что событие B подразумевает, что выпадут все числа, кроме чисел из события A. То есть, Выпадают числа 3, 4, 5 или 6. В таком случае получаем:\n",
        "P(B) = 1 - P(A) = 1 - $\\frac{1}{3}$ = $\\frac{2}{3}$  \n",
        "\n",
        "3.   Найдём распределение дискретной величины X\n",
        "Пусть величина X связана с нашими событиями A и B следующим образом:\n",
        "\n",
        "*   Если выпадает событие A, то X = 1\n",
        "*   Если выпадает событие B, то X = 0\n",
        "\n",
        "\n",
        "В таком случае, подытожим:  \n",
        "P(A) = P(X = 1) = $\\frac{1}{3}$  \n",
        "P(B) = P(X = 0) = $\\frac{2}{3}$"
      ],
      "metadata": {
        "id": "_s1QP_iseLEC"
      }
    },
    {
      "cell_type": "code",
      "execution_count": null,
      "metadata": {
        "colab": {
          "base_uri": "https://localhost:8080/"
        },
        "id": "7Cn4eLFbdKlO",
        "outputId": "9e0f1fd4-1133-479e-dbe2-e11530fba546"
      },
      "outputs": [
        {
          "output_type": "stream",
          "name": "stdout",
          "text": [
            "Теоретическое значение P(A): 0.3333333333333333\n",
            "Теоретическое значение P(B): 0.6666666666666666\n",
            "Теоретическое мат. ожидание X: 0.3333333333333333\n",
            "Эмпирическое мат. ожидание X: 0.331\n"
          ]
        }
      ],
      "source": [
        "import numpy as np\n",
        "\n",
        "P_A_theor = 1 / 3\n",
        "P_B_theor = 2 / 3\n",
        "\n",
        "E_X_theor = 1 * P_A_theor + 0 * P_B_theor\n",
        "\n",
        "size = 1000\n",
        "cases = [1, 2, 3, 4, 5, 6]\n",
        "\n",
        "x = np.random.choice(cases, size = size, p = [1 / 6] * 6)\n",
        "X = np.where(np.isin(x, [1, 2]), 1, 0)\n",
        "\n",
        "E_X_empirical = np.mean(X)\n",
        "\n",
        "print(f\"Теоретическое значение P(A): {P_A_theor}\")\n",
        "print(f\"Теоретическое значение P(B): {P_B_theor}\")\n",
        "print(f\"Теоретическое мат. ожидание X: {E_X_theor}\")\n",
        "print(f\"Эмпирическое мат. ожидание X: {E_X_empirical}\")"
      ]
    },
    {
      "cell_type": "markdown",
      "source": [
        "## Задача 2"
      ],
      "metadata": {
        "id": "evqmB3sGdctV"
      }
    },
    {
      "cell_type": "markdown",
      "source": [
        "Бросается два 6-гранных кубика. Какая вероятность, что выпадет на обоих кубиках выпадет нечетное число?"
      ],
      "metadata": {
        "id": "QJXnEezbV0wF"
      }
    },
    {
      "cell_type": "markdown",
      "source": [
        "**Решение :**\n",
        "\n",
        "\n",
        "1.   Вероятность выпадения нечётного числа на каждом из кубиков.    \n",
        "Выпасть может 3 нечётных и всех 6 чисел. То есть любое число из множества {1, 3, 5}. Таким образом получаем:  \n",
        "P(нечётное число на кубике) = $\\frac{\\text{Количество благоприятных исходов}}{\\text{Общее количество исходов}}$ = $\\frac{3}{6}$ = $\\frac{1}{2}$\n",
        "2.   Вероятность выпадения нечётных чисел на обоих кубиках.  \n",
        "Из независимости обоих бросков получаем, что общая вероятность равна произведению двух вероятностей каждого из кубиков.\n",
        "\n",
        "P(нечётное число на обоих кубиках) = P(нечётное число на 1) * P(нечётное число на 2) = $\\frac{1}{2}$ * $\\frac{1}{2}$ = $\\frac{1}{4}$ = 0.25\n",
        "\n"
      ],
      "metadata": {
        "id": "0pQCSuxGW7w6"
      }
    },
    {
      "cell_type": "code",
      "source": [
        "import numpy as np\n",
        "\n",
        "P_odd_single = 3 / 6\n",
        "P_both_odd_theor = P_odd_single ** 2\n",
        "\n",
        "size = 1000\n",
        "cases = [1, 2, 3, 4, 5, 6]\n",
        "\n",
        "throw_1 = np.random.choice(cases, size = size, p = [1 / 6] * 6)\n",
        "throw_2 = np.random.choice(cases, size = size, p = [1 / 6] * 6)\n",
        "\n",
        "both_odd = (throw_1 % 2 == 1) & (throw_2 % 2 == 1)\n",
        "\n",
        "P_both_odd_empirical = np.mean(both_odd)\n",
        "\n",
        "print(f\"Теоретическая вероятность: {P_both_odd_theor:.3f}\")\n",
        "print(f\"Эмпирическая вероятность: {P_both_odd_empirical}\")"
      ],
      "metadata": {
        "id": "wpBj43G3ddKe",
        "colab": {
          "base_uri": "https://localhost:8080/"
        },
        "outputId": "54b7fa23-4c8c-48dd-e5c5-fe0a9f95440f"
      },
      "execution_count": 6,
      "outputs": [
        {
          "output_type": "stream",
          "name": "stdout",
          "text": [
            "Теоретическая вероятность: 0.250\n",
            "Эмпирическая вероятность: 0.248\n"
          ]
        }
      ]
    },
    {
      "cell_type": "markdown",
      "source": [
        "## Задача 3"
      ],
      "metadata": {
        "id": "3TGjMsBxddac"
      }
    },
    {
      "cell_type": "markdown",
      "source": [
        "Бросается два 6-гранных кубика, найти вероятность, что произошли события и А, и В:  \n",
        "А - выпадение нечетного числа на кубике 1 (неявно, что на втором кубике может выпасть все что угодно).  \n",
        "B - выпадение 5-ки на кубике 2 (неявно, что на первом кубике может выпасть все что угодно)."
      ],
      "metadata": {
        "id": "Gr0xkT60bAbM"
      }
    },
    {
      "cell_type": "markdown",
      "source": [
        "**Решение :**\n",
        "\n",
        "Так как события независимы, то необходимо найти вероятность события A, затем вероятность события B, затем вероятность события A $\\cap$ B:\n",
        "\n",
        "1.   Вероятность события A.  \n",
        "Выпасть может 3 нечётных из всех 6 чисел. То есть любое из множества {1, 3, 5}. Таким образом вероятность события A это:  \n",
        "P(A) = $\\frac{3}{6}$ = $\\frac{1}{2}$\n",
        "    \n",
        "2.   Вероятность события B.\n",
        "Выпасть может только число 5, то есть единственный из 6 вариантов. Таким образом вероятность события B это:  \n",
        "P(B) = $\\frac{1}{6}$\n",
        "\n",
        "3.   Вероятность события A $\\cap$ B.\n",
        "Из независимости событий по формуле найдём:  \n",
        "P(A$\\cap$B) = P(A) * P(B) = $\\frac{1}{2}$ * $\\frac{1}{6}$ = $\\frac{1}{12}$\n",
        "\n"
      ],
      "metadata": {
        "id": "3xzoiWu7cSs2"
      }
    },
    {
      "cell_type": "code",
      "source": [
        "import numpy as np\n",
        "\n",
        "P_A_theor = 3 / 6\n",
        "P_B_theor = 1 / 6\n",
        "P_both_theor = P_A_theor * P_B_theor\n",
        "\n",
        "size = 1000\n",
        "cases = [1, 2, 3, 4, 5, 6]\n",
        "\n",
        "throw_A = np.random.choice(cases, size = size, p = [1 / 6] * 6)\n",
        "throw_B = np.random.choice(cases, size = size, p = [1 / 6] * 6)\n",
        "\n",
        "P_both_empirical = np.mean((throw_A % 2 == 1) & (throw_B == 5))\n",
        "\n",
        "print(f\"Теоретическая вероятность: {P_both_theor:.3f}\")\n",
        "print(f\"Эмпирическая вероятность: {P_both_empirical}\")"
      ],
      "metadata": {
        "id": "vxUkkELSddqv",
        "colab": {
          "base_uri": "https://localhost:8080/"
        },
        "outputId": "71df38af-9bd8-410f-aa7f-5edead1757b6"
      },
      "execution_count": 9,
      "outputs": [
        {
          "output_type": "stream",
          "name": "stdout",
          "text": [
            "Теоретическая вероятность: 0.083\n",
            "Эмпирическая вероятность: 0.083\n"
          ]
        }
      ]
    }
  ]
}