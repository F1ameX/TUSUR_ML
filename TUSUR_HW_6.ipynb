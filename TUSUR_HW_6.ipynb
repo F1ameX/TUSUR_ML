{
  "nbformat": 4,
  "nbformat_minor": 0,
  "metadata": {
    "colab": {
      "provenance": [],
      "authorship_tag": "ABX9TyN1HOh6eP+uag7okhxkhJ9K",
      "include_colab_link": true
    },
    "kernelspec": {
      "name": "python3",
      "display_name": "Python 3"
    },
    "language_info": {
      "name": "python"
    }
  },
  "cells": [
    {
      "cell_type": "markdown",
      "metadata": {
        "id": "view-in-github",
        "colab_type": "text"
      },
      "source": [
        "<a href=\"https://colab.research.google.com/github/F1ameX/TUSUR_ML/blob/main/TUSUR_HW_6.ipynb\" target=\"_parent\"><img src=\"https://colab.research.google.com/assets/colab-badge.svg\" alt=\"Open In Colab\"/></a>"
      ]
    },
    {
      "cell_type": "markdown",
      "source": [
        "## Задача 1"
      ],
      "metadata": {
        "id": "9piU60wZdZdz"
      }
    },
    {
      "cell_type": "markdown",
      "source": [
        "Бросается 6-гранный кубик. А - вероятность выпадения значений 1 или 2.\n",
        "В - отрицание A. Необходимо найти величины A и B. Чему равно распределение дискретной случайной величины X?"
      ],
      "metadata": {
        "id": "4UgndQi6dxI3"
      }
    },
    {
      "cell_type": "markdown",
      "source": [
        "**Решение:**\n",
        "\n",
        "\n",
        "1.   Определим вероятность события A  \n",
        "Выпадает число 1 или выпадает число 2. Так как кубик имеет всего 6 граней, то получаем:  \n",
        "P(A) = $\\frac{\\text{Количество благоприятных исходов}}{\\text{Количество всех исходов}}$ = $\\frac{2}{6}$ = $\\frac{1}{3}$  \n",
        "\n",
        "2.   Определим вероятность события B\n",
        "Из условия знаем, что событие B - это отрицание события A. Грубо говоря, B = $\\neg$A  \n",
        "Это означает, что событие B подразумевает, что выпадут все числа, кроме чисел из события A. То есть, Выпадают числа 3, 4, 5 или 6. В таком случае получаем:\n",
        "P(B) = 1 - P(A) = 1 - $\\frac{1}{3}$ = $\\frac{2}{3}$  \n",
        "\n",
        "3.   Найдём распределение дискретной величины X\n",
        "Пусть величина X связана с нашими событиями A и B следующим образом:\n",
        "\n",
        "*   Если выпадает событие A, то X = 1\n",
        "*   Если выпадает событие B, то X = 0\n",
        "\n",
        "\n",
        "В таком случае, подытожим:  \n",
        "P(A) = P(X = 1) = $\\frac{1}{3}$  \n",
        "P(B) = P(X = 0) = $\\frac{2}{3}$"
      ],
      "metadata": {
        "id": "_s1QP_iseLEC"
      }
    },
    {
      "cell_type": "code",
      "execution_count": 3,
      "metadata": {
        "colab": {
          "base_uri": "https://localhost:8080/"
        },
        "id": "7Cn4eLFbdKlO",
        "outputId": "56e3d0b6-eba1-4cea-dc24-f991ed9c7d0c"
      },
      "outputs": [
        {
          "output_type": "stream",
          "name": "stdout",
          "text": [
            "Теоретическое значение P(A): 0.3333333333333333\n",
            "Теоретическое значение P(B): 0.6666666666666666\n",
            "Теоретическое мат. ожидание X: 0.3333333333333333\n",
            "Эмпирическое мат. ожидание X: 0.32\n"
          ]
        }
      ],
      "source": [
        "import numpy as np\n",
        "\n",
        "P_A_theor = 1 / 3\n",
        "P_B_theor = 2 / 3\n",
        "\n",
        "E_X_theor = 1 * P_A_theor + 0 * P_B_theor\n",
        "\n",
        "size = 1000\n",
        "cases = [1, 2, 3, 4, 5, 6]\n",
        "\n",
        "x = np.random.choice(cases, size = size, p = [1 / 6] * 6)\n",
        "X = np.where(np.isin(x, [1, 2]), 1, 0)\n",
        "\n",
        "E_X_empirical = np.mean(X)\n",
        "\n",
        "print(f\"Теоретическое значение P(A): {P_A_theor}\")\n",
        "print(f\"Теоретическое значение P(B): {P_B_theor}\")\n",
        "print(f\"Теоретическое мат. ожидание X: {E_X_theor}\")\n",
        "print(f\"Эмпирическое мат. ожидание X: {E_X_empirical}\")"
      ]
    },
    {
      "cell_type": "markdown",
      "source": [
        "## Задача 2"
      ],
      "metadata": {
        "id": "evqmB3sGdctV"
      }
    },
    {
      "cell_type": "code",
      "source": [],
      "metadata": {
        "id": "wpBj43G3ddKe"
      },
      "execution_count": null,
      "outputs": []
    },
    {
      "cell_type": "markdown",
      "source": [
        "## Задача 3"
      ],
      "metadata": {
        "id": "3TGjMsBxddac"
      }
    },
    {
      "cell_type": "code",
      "source": [],
      "metadata": {
        "id": "vxUkkELSddqv"
      },
      "execution_count": null,
      "outputs": []
    }
  ]
}